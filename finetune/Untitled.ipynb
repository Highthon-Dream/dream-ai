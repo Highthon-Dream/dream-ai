{
 "cells": [
  {
   "cell_type": "code",
   "execution_count": 1,
   "id": "3efb7a03-a475-4dba-b8b7-6f5e264cabac",
   "metadata": {},
   "outputs": [
    {
     "name": "stderr",
     "output_type": "stream",
     "text": [
      "Special tokens have been added in the vocabulary, make sure the associated word embeddings are fine-tuned or trained.\n"
     ]
    },
    {
     "data": {
      "application/vnd.jupyter.widget-view+json": {
       "model_id": "c7f11f5e8a4141b59081d188a89e1753",
       "version_major": 2,
       "version_minor": 0
      },
      "text/plain": [
       "Loading checkpoint shards:   0%|          | 0/5 [00:00<?, ?it/s]"
      ]
     },
     "metadata": {},
     "output_type": "display_data"
    }
   ],
   "source": [
    "from transformers import AutoTokenizer, AutoModelForCausalLM\n",
    "\n",
    "tokenizer = AutoTokenizer.from_pretrained(\"LDCC/LDCC-SOLAR-10.7B\")\n",
    "model = AutoModelForCausalLM.from_pretrained(\"LDCC/LDCC-SOLAR-10.7B\")"
   ]
  },
  {
   "cell_type": "code",
   "execution_count": 2,
   "id": "df7c2650-b055-48d8-9986-0faf528d1b2d",
   "metadata": {},
   "outputs": [
    {
     "data": {
      "text/plain": [
       "torch.Size([2, 5])"
      ]
     },
     "execution_count": 2,
     "metadata": {},
     "output_type": "execute_result"
    }
   ],
   "source": [
    "import torch\n",
    "\n",
    "torch.randn((2, 4, 5)).mean(1).shape"
   ]
  },
  {
   "cell_type": "code",
   "execution_count": null,
   "id": "b0c83f37-0d66-4ac2-ad89-c4a10168f027",
   "metadata": {},
   "outputs": [],
   "source": [
    "tokens = tokenizer.encode(\"안녕\", return_tensors=\"pt\")\n",
    "generate_ids = model.generate(tokens, max_length=30)\n",
    "tokenizer.batch_decode(generate_ids, skip_special_tokens=True, clean_up_tokenization_spaces=False)[0]"
   ]
  },
  {
   "cell_type": "code",
   "execution_count": null,
   "id": "c66480e1-b8a7-4562-9f61-c891de5e8be8",
   "metadata": {},
   "outputs": [],
   "source": []
  }
 ],
 "metadata": {
  "kernelspec": {
   "display_name": "Python 3 (ipykernel)",
   "language": "python",
   "name": "python3"
  },
  "language_info": {
   "codemirror_mode": {
    "name": "ipython",
    "version": 3
   },
   "file_extension": ".py",
   "mimetype": "text/x-python",
   "name": "python",
   "nbconvert_exporter": "python",
   "pygments_lexer": "ipython3",
   "version": "3.11.7"
  }
 },
 "nbformat": 4,
 "nbformat_minor": 5
}
